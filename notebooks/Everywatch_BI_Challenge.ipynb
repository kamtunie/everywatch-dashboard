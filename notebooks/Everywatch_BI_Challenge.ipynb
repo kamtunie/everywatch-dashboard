{
 "cells": [
  {
   "cell_type": "markdown",
   "id": "df8376c6",
   "metadata": {},
   "source": [
    "\n",
    "# Everywatch Auction Dashboard — Build & Validation\n",
    "**Author:** Kamil Tuniewicz  \n",
    "**Date:** Sep 30, 2025\n",
    "\n",
    "This notebook documents the data preparation and validation KPIs used for the executive dashboard.\n"
   ]
  },
  {
   "cell_type": "code",
   "execution_count": null,
   "id": "4606885b",
   "metadata": {},
   "outputs": [],
   "source": [
    "import pandas as pd, numpy as np, json, pathlib\n",
    "xlsx = pathlib.Path(\"../Kamil Tuniewicz_AUCTION DATA.xlsx\")  # adjust path if needed\n",
    "df = pd.read_excel(xlsx, sheet_name=0)\n",
    "df.columns = [str(c).strip().replace(\" \", \"_\") for c in df.columns]\n",
    "df.head(3)"
   ]
  },
  {
   "cell_type": "markdown",
   "id": "47101126",
   "metadata": {},
   "source": [
    "## Clean & engineer fields"
   ]
  },
  {
   "cell_type": "code",
   "execution_count": null,
   "id": "d2a2da7a",
   "metadata": {},
   "outputs": [],
   "source": [
    "need = [\"CityName\",\"Price_RangeUSD\",\"MaterialsJson\",\"ColorsJson\",\"ReferenceNumberId\",\"CaseSizeName\",\n",
    "        \"MinEstUsd\",\"MaxEstUsd\",\"Category\",\"ManufacturerName\",\"ModelName\",\"RegionName\",\"CountryName\",\n",
    "        \"SourceName\",\"SaleEndDate\",\"LotStatusName\",\"RealUSD\",\"Final_SoldPriceUsd\",\"HammerUSD\",\"PerformanceUSD\"]\n",
    "for c in need:\n",
    "    if c not in df.columns: df[c] = np.nan\n",
    "\n",
    "df[\"SaleEndDate\"] = pd.to_datetime(df[\"SaleEndDate\"], errors=\"coerce\")\n",
    "df[\"year_month\"]  = df[\"SaleEndDate\"].dt.to_period(\"M\").astype(str)\n",
    "\n",
    "for c in [\"RealUSD\",\"Final_SoldPriceUsd\",\"HammerUSD\",\"MinEstUsd\",\"MaxEstUsd\",\"PerformanceUSD\"]:\n",
    "    df[c] = pd.to_numeric(df[c], errors=\"coerce\")\n",
    "\n",
    "df[\"revenue_usd\"] = np.where(df[\"RealUSD\"].notna(), df[\"RealUSD\"],\n",
    "                        np.where(df[\"Final_SoldPriceUsd\"].notna(), df[\"Final_SoldPriceUsd\"],\n",
    "                                 np.where(df[\"HammerUSD\"].notna(), df[\"HammerUSD\"], np.nan)))\n",
    "\n",
    "df[\"sold_flag\"] = (\n",
    "    df[\"LotStatusName\"].astype(str).str.contains(\"sold\", case=False, na=False)\n",
    "    | (df[\"Final_SoldPriceUsd\"].fillna(0) > 0)\n",
    ")\n",
    "\n",
    "def parse_tokens(val):\n",
    "    if pd.isna(val): return []\n",
    "    s = str(val).strip()\n",
    "    try:\n",
    "        if s.startswith(\"[\") or s.startswith(\"{\"):\n",
    "            obj = json.loads(s)\n",
    "            if isinstance(obj, list):\n",
    "                return [str(x).strip() for x in obj if str(x).strip()]\n",
    "            if isinstance(obj, dict):\n",
    "                out=[]\n",
    "                for k,v in obj.items():\n",
    "                    keep = (isinstance(v,bool) and v) or (isinstance(v,(int,float)) and v) or (isinstance(v,str) and v.strip())\n",
    "                    if keep: out.append(str(k).strip())\n",
    "                return out\n",
    "    except Exception:\n",
    "        pass\n",
    "    return [t.strip() for t in s.replace(\"/\", \",\").split(\",\") if t.strip()]\n",
    "\n",
    "df[\"MaterialsList\"] = df[\"MaterialsJson\"].apply(parse_tokens)\n",
    "df[\"ColorsList\"]    = df[\"ColorsJson\"].apply(parse_tokens)\n",
    "\n",
    "df.sample(5)[[\"SourceName\",\"RegionName\",\"CountryName\",\"ManufacturerName\",\"ModelName\",\"CaseSizeName\",\"Price_RangeUSD\"]]"
   ]
  },
  {
   "cell_type": "markdown",
   "id": "ebea0a46",
   "metadata": {},
   "source": [
    "## Validation KPIs (should match dashboard Overview)"
   ]
  },
  {
   "cell_type": "code",
   "execution_count": null,
   "id": "54626eae",
   "metadata": {},
   "outputs": [],
   "source": [
    "lots = len(df)\n",
    "sold = int(df[\"sold_flag\"].sum())\n",
    "st   = sold / lots if lots else np.nan\n",
    "rev  = float(df[\"revenue_usd\"].fillna(0).sum())\n",
    "avg  = (rev / sold) if sold else np.nan\n",
    "\n",
    "print(f\"Total lots: {lots:,}\")\n",
    "print(f\"Sold lots: {sold:,}\")\n",
    "print(f\"Sell-through: {st:.1%}\" if pd.notna(st) else \"Sell-through: —\")\n",
    "print(f\"Total revenue (USD): {rev:,.2f}\")\n",
    "print(f\"Avg sold price (USD): {avg:,.2f}\" if pd.notna(avg) else \"Avg sold price: —\")"
   ]
  },
  {
   "cell_type": "markdown",
   "id": "4b0b7d7b",
   "metadata": {},
   "source": [
    "## Ship the signed-off HTML to a `dist/` folder (optional)"
   ]
  },
  {
   "cell_type": "code",
   "execution_count": null,
   "id": "b437c536",
   "metadata": {},
   "outputs": [],
   "source": [
    "import shutil, pathlib\n",
    "dist = pathlib.Path(\"../dist\"); dist.mkdir(exist_ok=True)\n",
    "shutil.copy2(\"../Everywatch_CEO_Dashboard_RELEASE.html\", dist/\"Everywatch_CEO_Dashboard_RELEASE.html\")\n",
    "list(dist.iterdir())"
   ]
  }
 ],
 "metadata": {},
 "nbformat": 4,
 "nbformat_minor": 5
}
